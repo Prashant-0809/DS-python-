{
  "nbformat": 4,
  "nbformat_minor": 0,
  "metadata": {
    "colab": {
      "provenance": [],
      "authorship_tag": "ABX9TyM6AECeiyf41r5GSRJuOxCc"
    },
    "kernelspec": {
      "name": "python3",
      "display_name": "Python 3"
    },
    "language_info": {
      "name": "python"
    }
  },
  "cells": [
    {
      "cell_type": "code",
      "execution_count": null,
      "metadata": {
        "colab": {
          "base_uri": "https://localhost:8080/",
          "height": 437
        },
        "id": "swE7x9inCSsQ",
        "outputId": "4b10561d-30e6-4a10-b6d0-46cab66f842d"
      },
      "outputs": [
        {
          "name": "stdout",
          "output_type": "stream",
          "text": [
            "enter the element for position (0,0): 2\n",
            "enter the element for position (0,1): 1\n",
            "enter the element for position (0,2): 1\n"
          ]
        },
        {
          "output_type": "error",
          "ename": "KeyboardInterrupt",
          "evalue": "Interrupted by user",
          "traceback": [
            "\u001b[0;31m---------------------------------------------------------------------------\u001b[0m",
            "\u001b[0;31mKeyboardInterrupt\u001b[0m                         Traceback (most recent call last)",
            "\u001b[0;32m/tmp/ipython-input-451623136.py\u001b[0m in \u001b[0;36m<cell line: 0>\u001b[0;34m()\u001b[0m\n\u001b[1;32m      5\u001b[0m \u001b[0;32mfor\u001b[0m \u001b[0mi\u001b[0m \u001b[0;32min\u001b[0m \u001b[0mrange\u001b[0m\u001b[0;34m(\u001b[0m\u001b[0;36m3\u001b[0m\u001b[0;34m)\u001b[0m\u001b[0;34m:\u001b[0m\u001b[0;34m\u001b[0m\u001b[0;34m\u001b[0m\u001b[0m\n\u001b[1;32m      6\u001b[0m   \u001b[0;32mfor\u001b[0m \u001b[0mj\u001b[0m \u001b[0;32min\u001b[0m \u001b[0mrange\u001b[0m\u001b[0;34m(\u001b[0m\u001b[0;36m4\u001b[0m\u001b[0;34m)\u001b[0m\u001b[0;34m:\u001b[0m\u001b[0;34m\u001b[0m\u001b[0;34m\u001b[0m\u001b[0m\n\u001b[0;32m----> 7\u001b[0;31m    \u001b[0mmatrix\u001b[0m\u001b[0;34m[\u001b[0m\u001b[0mi\u001b[0m\u001b[0;34m]\u001b[0m\u001b[0;34m[\u001b[0m\u001b[0mj\u001b[0m\u001b[0;34m]\u001b[0m \u001b[0;34m=\u001b[0m \u001b[0mint\u001b[0m\u001b[0;34m(\u001b[0m\u001b[0minput\u001b[0m\u001b[0;34m(\u001b[0m\u001b[0;34mf\"enter the element for position ({i},{j}): \"\u001b[0m\u001b[0;34m)\u001b[0m\u001b[0;34m)\u001b[0m\u001b[0;34m\u001b[0m\u001b[0;34m\u001b[0m\u001b[0m\n\u001b[0m\u001b[1;32m      8\u001b[0m \u001b[0mprint\u001b[0m\u001b[0;34m(\u001b[0m\u001b[0mmatrix\u001b[0m\u001b[0;34m)\u001b[0m\u001b[0;34m\u001b[0m\u001b[0;34m\u001b[0m\u001b[0m\n\u001b[1;32m      9\u001b[0m \u001b[0mmatrix\u001b[0m \u001b[0;34m=\u001b[0m \u001b[0mnp\u001b[0m\u001b[0;34m.\u001b[0m\u001b[0marray\u001b[0m\u001b[0;34m(\u001b[0m\u001b[0mmatrix\u001b[0m\u001b[0;34m)\u001b[0m\u001b[0;34m\u001b[0m\u001b[0;34m\u001b[0m\u001b[0m\n",
            "\u001b[0;32m/usr/local/lib/python3.12/dist-packages/ipykernel/kernelbase.py\u001b[0m in \u001b[0;36mraw_input\u001b[0;34m(self, prompt)\u001b[0m\n\u001b[1;32m   1175\u001b[0m                 \u001b[0;34m\"raw_input was called, but this frontend does not support input requests.\"\u001b[0m\u001b[0;34m\u001b[0m\u001b[0;34m\u001b[0m\u001b[0m\n\u001b[1;32m   1176\u001b[0m             )\n\u001b[0;32m-> 1177\u001b[0;31m         return self._input_request(\n\u001b[0m\u001b[1;32m   1178\u001b[0m             \u001b[0mstr\u001b[0m\u001b[0;34m(\u001b[0m\u001b[0mprompt\u001b[0m\u001b[0;34m)\u001b[0m\u001b[0;34m,\u001b[0m\u001b[0;34m\u001b[0m\u001b[0;34m\u001b[0m\u001b[0m\n\u001b[1;32m   1179\u001b[0m             \u001b[0mself\u001b[0m\u001b[0;34m.\u001b[0m\u001b[0m_parent_ident\u001b[0m\u001b[0;34m[\u001b[0m\u001b[0;34m\"shell\"\u001b[0m\u001b[0;34m]\u001b[0m\u001b[0;34m,\u001b[0m\u001b[0;34m\u001b[0m\u001b[0;34m\u001b[0m\u001b[0m\n",
            "\u001b[0;32m/usr/local/lib/python3.12/dist-packages/ipykernel/kernelbase.py\u001b[0m in \u001b[0;36m_input_request\u001b[0;34m(self, prompt, ident, parent, password)\u001b[0m\n\u001b[1;32m   1217\u001b[0m             \u001b[0;32mexcept\u001b[0m \u001b[0mKeyboardInterrupt\u001b[0m\u001b[0;34m:\u001b[0m\u001b[0;34m\u001b[0m\u001b[0;34m\u001b[0m\u001b[0m\n\u001b[1;32m   1218\u001b[0m                 \u001b[0;31m# re-raise KeyboardInterrupt, to truncate traceback\u001b[0m\u001b[0;34m\u001b[0m\u001b[0;34m\u001b[0m\u001b[0m\n\u001b[0;32m-> 1219\u001b[0;31m                 \u001b[0;32mraise\u001b[0m \u001b[0mKeyboardInterrupt\u001b[0m\u001b[0;34m(\u001b[0m\u001b[0;34m\"Interrupted by user\"\u001b[0m\u001b[0;34m)\u001b[0m \u001b[0;32mfrom\u001b[0m \u001b[0;32mNone\u001b[0m\u001b[0;34m\u001b[0m\u001b[0;34m\u001b[0m\u001b[0m\n\u001b[0m\u001b[1;32m   1220\u001b[0m             \u001b[0;32mexcept\u001b[0m \u001b[0mException\u001b[0m\u001b[0;34m:\u001b[0m\u001b[0;34m\u001b[0m\u001b[0;34m\u001b[0m\u001b[0m\n\u001b[1;32m   1221\u001b[0m                 \u001b[0mself\u001b[0m\u001b[0;34m.\u001b[0m\u001b[0mlog\u001b[0m\u001b[0;34m.\u001b[0m\u001b[0mwarning\u001b[0m\u001b[0;34m(\u001b[0m\u001b[0;34m\"Invalid Message:\"\u001b[0m\u001b[0;34m,\u001b[0m \u001b[0mexc_info\u001b[0m\u001b[0;34m=\u001b[0m\u001b[0;32mTrue\u001b[0m\u001b[0;34m)\u001b[0m\u001b[0;34m\u001b[0m\u001b[0;34m\u001b[0m\u001b[0m\n",
            "\u001b[0;31mKeyboardInterrupt\u001b[0m: Interrupted by user"
          ]
        }
      ],
      "source": [
        "import numpy as np\n",
        "# Initialize matrix as a 3x3 matrix of zeros\n",
        "matrix = [[0 for j in range(3)] for i in range(4)]\n",
        "\n",
        "for i in range(4):\n",
        "  for j in range(3):\n",
        "   matrix[i][j] = int(input(f\"enter the element for position ({i},{j}): \"))\n",
        "print(matrix)\n",
        "matrix = np.array(matrix)\n"
      ]
    },
    {
      "cell_type": "code",
      "source": [
        "#reverse\n",
        "x = input(\"Enter X : \")\n",
        "rev = x[::-1]\n",
        "print(rev)"
      ],
      "metadata": {
        "colab": {
          "base_uri": "https://localhost:8080/"
        },
        "id": "bGbD6yGwDAlY",
        "outputId": "20f0fc82-f661-4df3-94fa-a026902f8368"
      },
      "execution_count": null,
      "outputs": [
        {
          "output_type": "stream",
          "name": "stdout",
          "text": [
            "Enter X : hello\n",
            "olleh\n"
          ]
        }
      ]
    },
    {
      "cell_type": "code",
      "source": [
        "#palidrome\n",
        "y = input(\"Enter the str :\")\n",
        "rev = y[::-1]\n",
        "print(rev)\n",
        "if(rev==y):\n",
        "  print(\"true\")\n",
        "else:\n",
        "  print(\"false\")"
      ],
      "metadata": {
        "colab": {
          "base_uri": "https://localhost:8080/"
        },
        "id": "vf6c38y8ohxR",
        "outputId": "02f54327-0d00-44b1-84b0-8591e5919781"
      },
      "execution_count": null,
      "outputs": [
        {
          "output_type": "stream",
          "name": "stdout",
          "text": [
            "Enter the str :hello\n",
            "olleh\n",
            "false\n"
          ]
        }
      ]
    },
    {
      "cell_type": "code",
      "source": [
        "z = [10,5,7,1,2]\n",
        "n = len(z)\n",
        "min = z[0]\n",
        "max = z[0]\n",
        "for i in range(n):\n",
        "  if(min > z[i]):\n",
        "    min = z[i]\n",
        "\n",
        "  if max < z[i]:\n",
        "    max = z[i]\n",
        "\n",
        "print(min, max)\n",
        "print(z.index(min), z.index(max))\n"
      ],
      "metadata": {
        "colab": {
          "base_uri": "https://localhost:8080/"
        },
        "id": "O2wAfNIlpmth",
        "outputId": "6edd0cd5-f7b5-4146-8eec-89ac392e94c3"
      },
      "execution_count": null,
      "outputs": [
        {
          "output_type": "stream",
          "name": "stdout",
          "text": [
            "1 10\n",
            "3 0\n"
          ]
        }
      ]
    },
    {
      "cell_type": "code",
      "source": [
        "num = int(input(\"Enter the number for sum digit :\"))\n",
        "Sum = 0\n",
        "\n",
        "while num > 0:\n",
        "  q = num % 10\n",
        "  Sum = Sum + q\n",
        "  num = num // 10\n",
        "print(Sum)"
      ],
      "metadata": {
        "colab": {
          "base_uri": "https://localhost:8080/"
        },
        "id": "gIpVfwmtvUKF",
        "outputId": "7e4446cd-f936-44eb-a8b7-3381e93deb4e"
      },
      "execution_count": null,
      "outputs": [
        {
          "output_type": "stream",
          "name": "stdout",
          "text": [
            "Enter the number for sum digit :121\n",
            "4\n"
          ]
        }
      ]
    },
    {
      "cell_type": "code",
      "source": [
        "#factorial\n",
        "num =  int(input(\"Enter the value of num\"))\n",
        "result = 1\n",
        "i = 1\n",
        "\n",
        "while i <= num:\n",
        "  result = result * i\n",
        "  i += 1\n",
        "\n",
        "print(result)"
      ],
      "metadata": {
        "colab": {
          "base_uri": "https://localhost:8080/"
        },
        "id": "DaRnezo_0gu3",
        "outputId": "9d9121d6-8524-418d-be34-2157f18c3c64"
      },
      "execution_count": null,
      "outputs": [
        {
          "output_type": "stream",
          "name": "stdout",
          "text": [
            "Enter the value of num21\n",
            "51090942171709440000\n"
          ]
        }
      ]
    },
    {
      "cell_type": "code",
      "source": [
        "n = int(input(\"Enter the N :-\"))\n",
        "first = 0\n",
        "second = 1\n",
        "print(first)\n",
        "print(second)\n",
        "for i in range(n):\n",
        "  i = first + second\n",
        "  first = second\n",
        "  second = i\n",
        "  print(i)\n"
      ],
      "metadata": {
        "colab": {
          "base_uri": "https://localhost:8080/"
        },
        "id": "aVMguBFP5zFV",
        "outputId": "685abe92-7607-4272-cf7d-c943504c08fd"
      },
      "execution_count": null,
      "outputs": [
        {
          "output_type": "stream",
          "name": "stdout",
          "text": [
            "Enter the N :-21\n",
            "0\n",
            "1\n",
            "1\n",
            "2\n",
            "3\n",
            "5\n",
            "8\n",
            "13\n",
            "21\n",
            "34\n",
            "55\n",
            "89\n",
            "144\n",
            "233\n",
            "377\n",
            "610\n",
            "987\n",
            "1597\n",
            "2584\n",
            "4181\n",
            "6765\n",
            "10946\n",
            "17711\n"
          ]
        }
      ]
    },
    {
      "cell_type": "code",
      "source": [
        "word = input(\"the the Word :-\")\n",
        "vowels = {\"a\", \"e\", \"i\", \"o\", \"u\"}\n",
        "vowels_value = 0\n",
        "consonant_value = 0\n",
        "for ch in word:\n",
        "    if ch in vowels:\n",
        "        vowels_value += 1\n",
        "    else:\n",
        "        consonant_value += 1\n",
        "print( vowels_value,\" \", consonant_value)"
      ],
      "metadata": {
        "colab": {
          "base_uri": "https://localhost:8080/"
        },
        "id": "W8PGvE-NwE9r",
        "outputId": "e143572b-bac2-4da3-fb69-b293cf256776"
      },
      "execution_count": null,
      "outputs": [
        {
          "output_type": "stream",
          "name": "stdout",
          "text": [
            "the the Word :- word\n",
            "1   4\n"
          ]
        }
      ]
    },
    {
      "cell_type": "code",
      "source": [
        "n = int(input(\"How many numbers? \"))\n",
        "nums = []\n",
        "i = 0\n",
        "while i < n:\n",
        "    nums.append(int(input(\"Enter a number: \")))\n",
        "    i += 1\n",
        "print(nums)\n",
        "largest_element = max(nums)\n",
        "second_largest_element = nums[0]\n",
        "for num in nums:\n",
        "    if num != largest_element and num > second_largest_element:\n",
        "        second_largest_element = num\n",
        "print(\"Second largest element is:\", second_largest_element)"
      ],
      "metadata": {
        "colab": {
          "base_uri": "https://localhost:8080/",
          "height": 297
        },
        "id": "8S_w3_oc7OHH",
        "outputId": "fa5cdb12-3616-4696-b17d-abd36380a9fb"
      },
      "execution_count": null,
      "outputs": [
        {
          "output_type": "stream",
          "name": "stdout",
          "text": [
            "How many numbers? 3\n",
            "Enter a number: 1\n",
            "Enter a number: 2\n",
            "Enter a number: 3\n",
            "[1, 2, 3]\n"
          ]
        },
        {
          "output_type": "error",
          "ename": "TypeError",
          "evalue": "'int' object is not callable",
          "traceback": [
            "\u001b[0;31m---------------------------------------------------------------------------\u001b[0m",
            "\u001b[0;31mTypeError\u001b[0m                                 Traceback (most recent call last)",
            "\u001b[0;32m/tmp/ipython-input-2013718623.py\u001b[0m in \u001b[0;36m<cell line: 0>\u001b[0;34m()\u001b[0m\n\u001b[1;32m      6\u001b[0m     \u001b[0mi\u001b[0m \u001b[0;34m+=\u001b[0m \u001b[0;36m1\u001b[0m\u001b[0;34m\u001b[0m\u001b[0;34m\u001b[0m\u001b[0m\n\u001b[1;32m      7\u001b[0m \u001b[0mprint\u001b[0m\u001b[0;34m(\u001b[0m\u001b[0mnums\u001b[0m\u001b[0;34m)\u001b[0m\u001b[0;34m\u001b[0m\u001b[0;34m\u001b[0m\u001b[0m\n\u001b[0;32m----> 8\u001b[0;31m \u001b[0mlargest_element\u001b[0m \u001b[0;34m=\u001b[0m \u001b[0mmax\u001b[0m\u001b[0;34m(\u001b[0m\u001b[0mnums\u001b[0m\u001b[0;34m)\u001b[0m\u001b[0;34m\u001b[0m\u001b[0;34m\u001b[0m\u001b[0m\n\u001b[0m\u001b[1;32m      9\u001b[0m \u001b[0msecond_largest_element\u001b[0m \u001b[0;34m=\u001b[0m \u001b[0mnums\u001b[0m\u001b[0;34m[\u001b[0m\u001b[0;36m0\u001b[0m\u001b[0;34m]\u001b[0m\u001b[0;34m\u001b[0m\u001b[0;34m\u001b[0m\u001b[0m\n\u001b[1;32m     10\u001b[0m \u001b[0;32mfor\u001b[0m \u001b[0mnum\u001b[0m \u001b[0;32min\u001b[0m \u001b[0mnums\u001b[0m\u001b[0;34m:\u001b[0m\u001b[0;34m\u001b[0m\u001b[0;34m\u001b[0m\u001b[0m\n",
            "\u001b[0;31mTypeError\u001b[0m: 'int' object is not callable"
          ]
        }
      ]
    },
    {
      "cell_type": "code",
      "source": [
        "#anagram\n",
        "word1 = input(\"Enter the First word :\")\n",
        "word2 = input(\"Enter the Second word :\")\n",
        "if sorted(word1) == sorted(word2):\n",
        "  print(\"the words are anagrams\")\n",
        "else:\n",
        "  print(\"the words are not anagrams\")"
      ],
      "metadata": {
        "colab": {
          "base_uri": "https://localhost:8080/"
        },
        "id": "clk59U5X9ynr",
        "outputId": "f77974df-c826-47fd-9feb-cd980d103ea2"
      },
      "execution_count": null,
      "outputs": [
        {
          "output_type": "stream",
          "name": "stdout",
          "text": [
            "Enter the First word :silent\n",
            "Enter the Second word :listen\n",
            "the words are anagrams\n"
          ]
        }
      ]
    },
    {
      "cell_type": "code",
      "source": [
        "list_a = [ 20, 13, 14, 15]\n",
        "list_b = [ 12, 24, 64, 11]\n",
        "new = []\n",
        "i = 0\n",
        "j = 0\n",
        "while i < len(list_a) and j < len(list_b):\n",
        "  list_a[i] != list_b[j]\n",
        "  if list_a[i]< list_b[j]:\n",
        "    new.append(list_a[i])\n",
        "    i += 1\n",
        "  else:\n",
        "    new.append(list_b[j])\n",
        "    j += 1\n",
        "  while i < len(list_a):\n",
        "    new.append(list_a[i])\n",
        "    i += 1\n",
        "  while j < len(list_b):\n",
        "    new.append(list_b[j])\n",
        "    j += 1\n",
        "print(new)\n",
        "print(id(new[0]))\n",
        "print(id(new[1]))\n",
        "print(id(new[2]))\n",
        "print(id(new[3]))\n"
      ],
      "metadata": {
        "colab": {
          "base_uri": "https://localhost:8080/"
        },
        "id": "GDzBl3Y7ZQBm",
        "outputId": "cb635333-32ee-4892-924a-b00787ebcec1"
      },
      "execution_count": null,
      "outputs": [
        {
          "output_type": "stream",
          "name": "stdout",
          "text": [
            "[12, 20, 13, 14, 15, 24, 64, 11]\n",
            "11642440\n",
            "11642696\n",
            "11642472\n",
            "11642504\n"
          ]
        }
      ]
    },
    {
      "cell_type": "code",
      "source": [
        "n = int(input(\"the the number of elmeent :\"))\n",
        "l = []\n",
        "result = []\n",
        "seen = {}\n",
        "i = 0\n",
        "while i < n:\n",
        "  l.append(int(input(\"Enter the element :\")))\n",
        "  i += 1\n",
        "print(l)\n",
        "for j in range(n):\n",
        "  if l[j] not in seen:\n",
        "    seen[l[j]] = 1\n",
        "    result.append(l[j])\n",
        "  else:\n",
        "    seen[l[j]] += 1\n",
        "print(\"the resultant list is : \",result)\n"
      ],
      "metadata": {
        "colab": {
          "base_uri": "https://localhost:8080/"
        },
        "id": "HeNcquvhHjem",
        "outputId": "a9a00ccc-cefc-46ed-96ea-35cb5f7c4516"
      },
      "execution_count": null,
      "outputs": [
        {
          "output_type": "stream",
          "name": "stdout",
          "text": [
            "the the number of elmeent :5\n",
            "Enter the element :1\n",
            "Enter the element :2\n",
            "Enter the element :1\n",
            "Enter the element :3\n",
            "Enter the element :2\n",
            "[1, 2, 1, 3, 2]\n",
            "the resultant list is :  [1, 2, 3]\n"
          ]
        }
      ]
    },
    {
      "cell_type": "code",
      "source": [
        "def first_non_repeating_char(s):\n",
        "    for char in s:\n",
        "        if s.count(char) == 1:   # count how many times this char appears\n",
        "            print(\"the first non reapting number is :\")\n",
        "            return char\n",
        "    return None   # if no unique char is found\n",
        "\n",
        "# Example\n",
        "print(first_non_repeating_char(input(\"Enter the string :\")))\n"
      ],
      "metadata": {
        "colab": {
          "base_uri": "https://localhost:8080/"
        },
        "id": "nmCuuW0XK0Gu",
        "outputId": "7ec0886e-e642-4217-8c1f-621f1ef3435f"
      },
      "execution_count": null,
      "outputs": [
        {
          "output_type": "stream",
          "name": "stdout",
          "text": [
            "Enter the string :aabbc\n",
            "the first non reapting number is :\n",
            "c\n"
          ]
        }
      ]
    },
    {
      "cell_type": "markdown",
      "source": [
        "* Create a variable city with your hometown’s name and print it.\n",
        "* Make a list of 5 numbers and print the second number.\n",
        "* Write a program that checks if a number is greater than 10 and prints \"Yes\" or \"No\".\n",
        "* Use a for loop to print all numbers from 1 to 5.\n",
        "* Write a function that takes your name and prints: \"Hello, your name\"."
      ],
      "metadata": {
        "id": "vJrm__wYp0vT"
      }
    },
    {
      "cell_type": "code",
      "source": [
        "city = \"Delhi\"\n",
        "list_1 = [1, 2, 3, 4, 5]\n",
        "print(city, \" \", list_1[1])\n",
        "num = int(input(\"enter the number :\"))\n",
        "if num < 10:\n",
        "  print(\"yes\")\n",
        "else:\n",
        "  print(\"No\")\n",
        "\n",
        "for i in range(5):\n",
        "  print(i)\n",
        "  i += 1\n",
        "\n",
        "def myNameis(s):\n",
        "  print(\"Hello,\",s)\n",
        "\n",
        "s = input(\"enter your name :\")\n",
        "myNameis(s)\n",
        "\n"
      ],
      "metadata": {
        "colab": {
          "base_uri": "https://localhost:8080/"
        },
        "id": "JSFKCkQop_Dv",
        "outputId": "91316c64-da64-454d-cedd-29bc3013ab04"
      },
      "execution_count": null,
      "outputs": [
        {
          "output_type": "stream",
          "name": "stdout",
          "text": [
            "Delhi   2\n",
            "enter the number :5\n",
            "yes\n",
            "0\n",
            "1\n",
            "2\n",
            "3\n",
            "4\n",
            "enter your name :prashant\n",
            "Hello, prashant\n"
          ]
        }
      ]
    },
    {
      "cell_type": "markdown",
      "source": [
        "* Create a dictionary for a student with keys: \"name\", \"age\", and \"grade\". Print the grade.\n",
        "\n",
        "* Write a loop that prints only even numbers from 1 to 20.\n",
        "\n",
        "* Write a function that takes two numbers and returns their average.\n",
        "\n",
        "* Given a list [10, 20, 30, 40, 50], use a loop to calculate the sum (without using sum()).\n",
        "\n",
        "* Use an if condition to check if a number is positive, negative, or zero."
      ],
      "metadata": {
        "id": "YkkmKctaGnrx"
      }
    },
    {
      "cell_type": "code",
      "source": [
        "#print the grade\n",
        "dict_student ={\"name\": \"Prashant\", \"age\" : 21, \"grade\" : \"undergrad\"}\n",
        "print(dict_student[\"grade\"])\n",
        "\n",
        "#a loop to print even number from 1 to 20 only\n",
        "\n",
        "for i in range(20):\n",
        "  if i % 2 == 0:\n",
        "    print(i)\n",
        "    i += 0\n",
        "  else:\n",
        "    print(\" \")\n",
        "# A function that takes two number and return the average\n",
        "\n",
        "def averageNumber(cute, kawai):\n",
        "  averageofNumber = (cute + kawai)/2\n",
        "  print(\"the average of number is :\", averageofNumber)\n",
        "cute = int(input(\"enter the first number : \"))\n",
        "kawai = int(input(\"enter the second number :\"))\n",
        "\n",
        "averageNumber(cute, kawai)\n",
        "\n",
        "# use loop to calculate the sum of element of the list\n",
        "\n",
        "addition = [10, 20, 30, 40, 50]\n",
        "n = len(addition)\n",
        "sum = 0\n",
        "for i in range(n):\n",
        "  sum += addition[i]\n",
        "  i += 1\n",
        "print(\"the sum is :\", sum)\n",
        "\n",
        "# use if condition to check whether the num is zero, positive or negative\n",
        "\n",
        "given_number = int(input(\"enter the number :\"))\n",
        "\n",
        "if given_number < 0:\n",
        "  print(\"the given number is negative\")\n",
        "elif given_number > 0:\n",
        "    print(\"the given number is positive\")\n",
        "else:\n",
        "  print(\"the given number is zero\")\n"
      ],
      "metadata": {
        "colab": {
          "base_uri": "https://localhost:8080/"
        },
        "id": "vZfHaFehG4PT",
        "outputId": "1f35ee5a-0c93-46e2-ddcc-18f63b171bed"
      },
      "execution_count": null,
      "outputs": [
        {
          "output_type": "stream",
          "name": "stdout",
          "text": [
            "undergrad\n",
            "0\n",
            " \n",
            "2\n",
            " \n",
            "4\n",
            " \n",
            "6\n",
            " \n",
            "8\n",
            " \n",
            "10\n",
            " \n",
            "12\n",
            " \n",
            "14\n",
            " \n",
            "16\n",
            " \n",
            "18\n",
            " \n",
            "enter the first number : 1204\n",
            "enter the second number :3300\n",
            "the average of number is : 2252.0\n",
            "the sum is : 150\n",
            "enter the number :-145\n",
            "the given number is negative\n"
          ]
        }
      ]
    },
    {
      "cell_type": "code",
      "source": [
        "# Write a function that takes a list of numbers and returns the largest one (don’t use max()).\n",
        "\n",
        "def largest_number(given_List, size):\n",
        "  bigest_number = given_List[0]\n",
        "  for j in range(size):\n",
        "    if bigest_number < given_List[j]:\n",
        "      bigest_number = given_List[j]\n",
        "  print(bigest_number)\n",
        "\n",
        "given_List = []\n",
        "size = int(input(\"Enter the size of list\"))\n",
        "for i in range(size):\n",
        "  given_List.append(int(input(\"enter the int element of list :\")))\n",
        "print(given_List)\n",
        "\n",
        "largest_number(given_List, size)\n",
        "\n"
      ],
      "metadata": {
        "colab": {
          "base_uri": "https://localhost:8080/"
        },
        "id": "pFHDnXahaHNr",
        "outputId": "621d42aa-1d48-405a-c263-5b8e72f2cdbb"
      },
      "execution_count": null,
      "outputs": [
        {
          "output_type": "stream",
          "name": "stdout",
          "text": [
            "Enter the size of list4\n",
            "enter the int element of list :1\n",
            "enter the int element of list :2\n",
            "enter the int element of list :3\n",
            "enter the int element of list :4\n",
            "[1, 2, 3, 4]\n",
            "4\n"
          ]
        }
      ]
    },
    {
      "cell_type": "code",
      "source": [
        "# Given a string \"datascience\", count how many times the letter \"e\" appears.\n",
        "string = \"datascience\"\n",
        "search_element = input(\"enter the letter you want to count their ocurrence in word :\")\n",
        "ch_count = 0\n",
        "for ch in string:  # Iterate through the main string\n",
        "  if ch == search_element: # Check if the character matches the search_element\n",
        "    ch_count += 1\n",
        "print(\"the number of times the given letter occured is :\", ch_count)"
      ],
      "metadata": {
        "colab": {
          "base_uri": "https://localhost:8080/"
        },
        "id": "W01lDnsTobEH",
        "outputId": "ce51fa04-3a7e-481e-983e-01ec2e92caf2"
      },
      "execution_count": null,
      "outputs": [
        {
          "output_type": "stream",
          "name": "stdout",
          "text": [
            "enter the letter you want to count their ocurrence in word :e\n",
            "the number of times the given letter occured is : 2\n"
          ]
        }
      ]
    },
    {
      "cell_type": "code",
      "source": [
        "for num in range(1, 51):   # numbers from 1 to 50\n",
        "    if num % 3 == 0 and num % 5 == 0:\n",
        "        print(\"FizzBuzz\")\n",
        "    elif num % 3 == 0:\n",
        "        print(\"Fizz\")\n",
        "    elif num % 5 == 0:\n",
        "        print(\"Buzz\")\n",
        "    else:\n",
        "        print(num)"
      ],
      "metadata": {
        "colab": {
          "base_uri": "https://localhost:8080/"
        },
        "id": "I99LqXon5eO-",
        "outputId": "bea04516-4c4c-48f5-ad31-0f40fb90996e"
      },
      "execution_count": null,
      "outputs": [
        {
          "output_type": "stream",
          "name": "stdout",
          "text": [
            "1\n",
            "2\n",
            "Fizz\n",
            "4\n",
            "Buzz\n",
            "Fizz\n",
            "7\n",
            "8\n",
            "Fizz\n",
            "Buzz\n",
            "11\n",
            "Fizz\n",
            "13\n",
            "14\n",
            "FizzBuzz\n",
            "16\n",
            "17\n",
            "Fizz\n",
            "19\n",
            "Buzz\n",
            "Fizz\n",
            "22\n",
            "23\n",
            "Fizz\n",
            "Buzz\n",
            "26\n",
            "Fizz\n",
            "28\n",
            "29\n",
            "FizzBuzz\n",
            "31\n",
            "32\n",
            "Fizz\n",
            "34\n",
            "Buzz\n",
            "Fizz\n",
            "37\n",
            "38\n",
            "Fizz\n",
            "Buzz\n",
            "41\n",
            "Fizz\n",
            "43\n",
            "44\n",
            "FizzBuzz\n",
            "46\n",
            "47\n",
            "Fizz\n",
            "49\n",
            "Buzz\n"
          ]
        }
      ]
    },
    {
      "cell_type": "code",
      "source": [
        "people = { \"Sind\" : 19, \"indu\" : 20, \"Hind\" : 23}\n",
        "\n",
        "for key, value in people.items():\n",
        "  if value < 20:\n",
        "    print(key)\n",
        "  else:\n",
        "    print(None)\n",
        "\n",
        "\n"
      ],
      "metadata": {
        "colab": {
          "base_uri": "https://localhost:8080/"
        },
        "id": "nl-XF7htItos",
        "outputId": "179f59e6-edce-4088-adc1-e9690ceca6f0"
      },
      "execution_count": null,
      "outputs": [
        {
          "output_type": "stream",
          "name": "stdout",
          "text": [
            "Sind\n",
            "None\n",
            "None\n"
          ]
        }
      ]
    },
    {
      "cell_type": "code",
      "source": [
        "my_dict = {}\n",
        "\n",
        "# Step 2: Ask user how many items\n",
        "n = int(input(\"How many items do you want to add? \"))\n",
        "\n",
        "# Step 3: Loop\n",
        "for i in range(n):\n",
        "    key = input(\"Enter key: \")\n",
        "    value = input(\"Enter value: \")\n",
        "    my_dict[key] = value   # Step 4: add to dictionary\n",
        "\n",
        "print(\"Final dictionary:\", my_dict)\n"
      ],
      "metadata": {
        "colab": {
          "base_uri": "https://localhost:8080/"
        },
        "id": "A4g6NwBr57HW",
        "outputId": "0b148b6e-213a-4f73-f7f9-7a2bb1499a5e"
      },
      "execution_count": null,
      "outputs": [
        {
          "output_type": "stream",
          "name": "stdout",
          "text": [
            "How many items do you want to add? 3\n",
            "Enter key: Prashant\n",
            "Enter value: 20\n",
            "Enter key: Sneha\n",
            "Enter value: 25\n",
            "Enter key: Ritka\n",
            "Enter value: 27\n",
            "Final dictionary: {'Prashant': '20', 'Sneha': '25', 'Ritka': '27'}\n"
          ]
        }
      ]
    },
    {
      "cell_type": "code",
      "source": [
        "# Create a set with 5 numbers. Add one more number into it.\n",
        "set_list = {1, 2, 3, 4, 5}\n",
        "\n",
        "set_list.add(int(input(\"enter the element : \")))\n",
        "\n",
        "print(\"the list after adding the number is : \",set_list)\n",
        "\n",
        "set_list.update([17, 23, 50])\n",
        "\n",
        "print(\"the updated set is : \", set_list)"
      ],
      "metadata": {
        "colab": {
          "base_uri": "https://localhost:8080/"
        },
        "id": "kT_Cp0RvJMBs",
        "outputId": "d8747529-4353-4621-9314-8bde14543f24"
      },
      "execution_count": null,
      "outputs": [
        {
          "output_type": "stream",
          "name": "stdout",
          "text": [
            "enter the element : 6\n",
            "the list after adding the number is :  {1, 2, 3, 4, 5, 6}\n",
            "the updated set is :  {1, 2, 3, 4, 5, 6, 17, 23, 50}\n"
          ]
        }
      ]
    },
    {
      "cell_type": "code",
      "source": [
        "def duplicateRemover(list_c, seen):\n",
        "  size = sizeoflist\n",
        "  for j in range(size):\n",
        "    if list_c[j] in seen:\n",
        "      del list_c[j]\n",
        "    else:\n",
        "      seen.append(list_c[j])\n",
        "  print(list_c)\n",
        "\n",
        "list_c = []\n",
        "sizeoflist = int(input(\"enter the size of list\"))\n",
        "\n",
        "for i in range(sizeoflist):\n",
        "  list_c.append(int(input(\"enter the element\")))\n",
        "seen = []\n",
        "duplicateRemover(list_c, seen)\n",
        "\n",
        "\n"
      ],
      "metadata": {
        "colab": {
          "base_uri": "https://localhost:8080/"
        },
        "id": "OdBVwQ6m7Gu0",
        "outputId": "aa7d05c6-5964-4411-a863-d38fba18d90a"
      },
      "execution_count": null,
      "outputs": [
        {
          "output_type": "stream",
          "name": "stdout",
          "text": [
            "enter the size of list 3\n",
            "enter the element1\n",
            "enter the element2\n",
            "enter the element1\n",
            "[1, 2]\n"
          ]
        }
      ]
    },
    {
      "cell_type": "code",
      "source": [],
      "metadata": {
        "id": "mo7jSzvULnCY"
      },
      "execution_count": null,
      "outputs": []
    }
  ]
}